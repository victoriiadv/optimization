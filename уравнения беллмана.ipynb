{
  "nbformat": 4,
  "nbformat_minor": 0,
  "metadata": {
    "colab": {
      "provenance": []
    },
    "kernelspec": {
      "name": "python3",
      "display_name": "Python 3"
    },
    "language_info": {
      "name": "python"
    }
  },
  "cells": [
    {
      "cell_type": "code",
      "execution_count": null,
      "metadata": {
        "id": "p99WFudv2c_z"
      },
      "outputs": [],
      "source": [
        "#библиотеки\n",
        "\n",
        "import numpy as np #для вычислений"
      ]
    },
    {
      "cell_type": "code",
      "source": [
        "#инициализация глобальных переменных\n",
        "\n",
        "num_cars = 7  #количество машин\n",
        "num_companies = 4  #количество предприятий\n",
        "probabilities = np.array([\n",
        "    [1.0, 0.9, 0.7, 0.6, 0.6, 0.5, 0.4, 0.2],  #предприятие 1\n",
        "    [1.0, 0.9, 0.8, 0.6, 0.5, 0.5, 0.3, 0.2],  #предприятие 2\n",
        "    [1.0, 1.0, 0.9, 0.9, 0.9, 0.7, 0.7, 0.1],  #предприятие 3\n",
        "    [1.0, 0.9, 0.8, 0.4, 0.2, 0.2, 0.2, 0.0]   #предприятие 4\n",
        "]) #вероятности выполнения заказов (0-7 машин) предприятиями"
      ],
      "metadata": {
        "id": "iZsEaJ-p2g1f"
      },
      "execution_count": null,
      "outputs": []
    },
    {
      "cell_type": "code",
      "source": [
        "#функции\n",
        "'''\n",
        "функция solution позволяет пользователю выбрать формат данных: предопределённые из условия или введенные вручную,\n",
        "    а затем вызывает функцию решения задачи\n",
        "  вход: -\n",
        "  выход: выводит решение\n",
        "'''\n",
        "def solution():\n",
        "  print(\"Выберите способ ввода данных:\\n1. Предопределённые значения\\n2. Пользовательский ввод\")\n",
        "  choice = int(input(\"Введите 1 или 2: \"))\n",
        "\n",
        "  #проверка корректности выбора\n",
        "  while choice not in {1, 2}:\n",
        "    choice = int(input(\"Ошибка! Введите 1 или 2: \"))\n",
        "\n",
        "  if choice == 2:#проверка корректности выбора\n",
        "    while choice not in {1, 2}:\n",
        "      choice = int(input(\"Ошибка! Введите 1 или 2: \"))\n",
        "\n",
        "  if choice == 2:\n",
        "    num_companies_2, num_cars_2, probabilities_2 = data_input()\n",
        "    dynamic_prog(num_companies_2, num_cars_2, probabilities_2)\n",
        "\n",
        "  else:\n",
        "    dynamic_prog(num_companies, num_cars, probabilities)\n",
        "\n",
        "'''\n",
        "функция data_input для ввода данных пользователем:\n",
        "  вход: -\n",
        "  выход: возвращает введенные значения num_cars, num_companies, probabilities\n",
        "'''\n",
        "def data_input():\n",
        "    #пользовательский ввод\n",
        "    num_cars, num_companies, probabilities = 0, 0, []\n",
        "    print(\"Введите данные:\")\n",
        "    while num_cars <= 0:\n",
        "      num_cars = int(input(\"Количество машин = \"))\n",
        "    while num_companies <= 0:\n",
        "      num_companies = int(input(\"Количество предприятий = \"))\n",
        "\n",
        "    for i in range(num_companies):\n",
        "        while True:\n",
        "            print(f\"Введите вероятности для предприятия {i + 1}:\")\n",
        "            row_input = input()\n",
        "            row = row_input.split()\n",
        "\n",
        "            if len(row) != num_cars + 1:\n",
        "                print(f\"Ошибка! нужно ввести ровно {num_cars + 1} чисел.\")\n",
        "                continue\n",
        "\n",
        "            row = [float(value) for value in row]\n",
        "            if all(0 <= p <= 1 for p in row):\n",
        "                probabilities.append(row)\n",
        "                break\n",
        "            else:\n",
        "                print(\"Ошибка: все вероятности должны быть от 0 до 1.\")\n",
        "\n",
        "    probabilities = np.array(probabilities)\n",
        "    return num_cars, num_companies, probabilities\n",
        "\n",
        "\n",
        "def F_k_step(k, num_companies, num_cars, probabilities):\n",
        "    \"\"\"\n",
        "    функция F_k_step для вычисления условно оптимального выигрыша на k-ом шаге\n",
        "                (т.е. вычисления максимальной вероятности выполнения заказа,\n",
        "                распределённого на k,k+1,...,num_companies предприятиях)\n",
        "                из уравнений Беллмана:\n",
        "                F_k(X_k-1) = max(u_k){W_k(X_k-1, u_k)} для k = num_companies\n",
        "                F_k(X_k-1) = max(u_k){W_k(X_k-1, u_k) * F_k+1(X_k-1 - u_k)} для k от 1 до num_companies\n",
        "  вход: k - номер шага\n",
        "        num_companies - количество предприятий\n",
        "        num_cars - количество машин\n",
        "        probabilities - массив вероятностей выполнения заказов (0-7 машин) предприятиями\n",
        "\n",
        "  выход: массив F_k_arr вида:\n",
        "         [[F_k(X_k-1 = 0), u_k11, u_k12, ...], ..., [F_k(X_k-1 = num_cars), u_kn1, u_kn2, ...]],\n",
        "         где u_k - условно оптимальные управления\n",
        "    \"\"\"\n",
        "    #для вычисления F_k, где k - номер последнего предприятия\n",
        "    if k == num_companies:\n",
        "        return [[probabilities[k - 1][u_k], u_k] for u_k in range(num_cars + 1)]\n",
        "\n",
        "    F_k_arr = []\n",
        "    #находим F_k(X_k-1), где X_k-1 от 0 до num_cars,\n",
        "    #т.е. вероятность того, что k-ое предприятие выполнит заказ на u_k машин, если после заказа на предыдущем предприятии осталось заказать X_k-1 машин\n",
        "    for X_k_1 in range(num_cars + 1):\n",
        "        temp_values = []\n",
        "\n",
        "        # Перебираем все возможные значения u_k\n",
        "        for u_k in range(X_k_1 + 1):\n",
        "            next_step = F_k_step(k + 1, num_companies, num_cars, probabilities)\n",
        "            prob = probabilities[k - 1][u_k] * next_step[X_k_1 - u_k][0]\n",
        "            temp_values.append(prob)\n",
        "\n",
        "        max_prob = max(temp_values)\n",
        "        optimal_allocations = [u_k for u_k, value in enumerate(temp_values) if value == max_prob]\n",
        "        F_k_arr.append([max_prob] + optimal_allocations)\n",
        "\n",
        "    return F_k_arr\n",
        "\n",
        "\n",
        "def dynamic_prog(num_companies, num_cars, probabilities):\n",
        "    \"\"\"\n",
        "    функция dynamic_prog для решения задачи динамическим программированием\n",
        "        (выводит все оптимальные решения задачи)\n",
        "    вход: num_companies - количество предприятий\n",
        "        num_cars - количество машин\n",
        "        probabilities - массив вероятностей выполнения заказов (0-7 машин) предприятиями\n",
        "    \"\"\"\n",
        "    F_arr = []\n",
        "\n",
        "    # записываем выигрыши от последнего предприятия к первому\n",
        "    for k in range(num_companies, 0, -1):\n",
        "        F_arr.insert(0, F_k_step(k, num_companies, num_cars, probabilities))\n",
        "\n",
        "    #выводим оптимальное распределение\n",
        "    X_k_1 = num_cars\n",
        "    u_k = int(F_arr[0][X_k_1][1])\n",
        "    print(f\"It should be ordered {u_k} on factory 1\")\n",
        "\n",
        "    for k in range(1, num_companies):\n",
        "        X_k_1 -= u_k\n",
        "        u_k = int(F_arr[k][X_k_1][1])\n",
        "        print(f\"It should be ordered {u_k}  on factory {k + 1}\")\n",
        "\n",
        "    print(f\"Total probability is {F_arr[0][num_cars][0]}\")\n",
        "\n",
        "\n",
        "def F_k_step_v2(k, num_companies, num_cars, max_productions, probabilities):\n",
        "    \"\"\"\n",
        "    Вычисляет условно оптимальный выигрыш для этапа k с учётом максимальной производительности заводов\n",
        "    вход: k - номер шага\n",
        "          num_companies - количество предприятий\n",
        "          num_cars - количество машин\n",
        "          max_productions - массив с максимальной производительностью каждого завода\n",
        "          probabilities - массив вероятностей выполнения заказов (0-7 машин) предприятиями\n",
        "\n",
        "    выход: массив F_k_arr вида:\n",
        "           [[F_k(X_k-1 = 0), u_k11, u_k12, ...], ..., [F_k(X_k-1 = num_cars), u_kn1, u_kn2, ...]],\n",
        "           где u_k - условно оптимальные управления.\n",
        "    \"\"\"\n",
        "    if k == num_companies:\n",
        "        #для последнего предприятия\n",
        "        return [[probabilities[k - 1][u_k], u_k] for u_k in range(min(num_cars, max_productions[k - 1]) + 1)]\n",
        "\n",
        "    F_k_arr = []\n",
        "    #рассчитываем F_k для каждого значения X_k-1\n",
        "    for X_k_1 in range(num_cars + 1):\n",
        "        temp_values = []\n",
        "\n",
        "        #перебираем все возможные значения u_k, ограниченные производительностью предприятия\n",
        "        for u_k in range(min(X_k_1, max_productions[k - 1]) + 1):\n",
        "            next_step = F_k_step_v2(k + 1, num_companies, num_cars, max_productions, probabilities)\n",
        "            prob = probabilities[k - 1][u_k] * next_step[X_k_1 - u_k][0]\n",
        "            temp_values.append(prob)\n",
        "\n",
        "        max_prob = max(temp_values)\n",
        "        optimal_allocations = [u_k for u_k, value in enumerate(temp_values) if value == max_prob]\n",
        "        F_k_arr.append([max_prob] + optimal_allocations)\n",
        "\n",
        "    return F_k_arr\n",
        "\n",
        "\n",
        "def dynamic_prog_v2(num_companies, num_cars, max_productions, probabilities):\n",
        "    \"\"\"\n",
        "    функция dynamic_prog_v2 для решения задачи динамическим программированием с учётом максимальной производительности заводов\n",
        "    вход: num_companies - количество предприятий\n",
        "        num_cars - количество машин\n",
        "        max_productions - массив с максимальной производительностью каждого завода\n",
        "        probabilities - массив вероятностей выполнения заказов (0-7 машин) предприятиями\n",
        "    \"\"\"\n",
        "    F_arr = []\n",
        "    #выигрыши от последнего предприятия к первому\n",
        "    for k in range(num_companies, 0, -1):\n",
        "        F_arr.insert(0, F_k_step_v2(k, num_companies, num_cars, max_productions, probabilities))\n",
        "\n",
        "    #выводим оптимальное распределение\n",
        "    X_k_1 = num_cars\n",
        "    u_k = int(F_arr[0][X_k_1][1])\n",
        "    print(f\"It should be ordered {u_k} on factory 1\")\n",
        "\n",
        "    for k in range(1, num_companies):\n",
        "        X_k_1 -= u_k\n",
        "        u_k = int(F_arr[k][X_k_1][1])\n",
        "        print(f\"It should be ordered {u_k}  on factory {k + 1}\")\n",
        "\n",
        "    print(f\"Total probability is {F_arr[0][num_cars][0]}\")"
      ],
      "metadata": {
        "id": "V2mXkCQk4yii"
      },
      "execution_count": null,
      "outputs": []
    },
    {
      "cell_type": "code",
      "source": [
        "solution()"
      ],
      "metadata": {
        "colab": {
          "base_uri": "https://localhost:8080/"
        },
        "id": "XyeiYYqP9NbE",
        "outputId": "ae9abbf0-b4ff-4b12-b321-582a294b0fec"
      },
      "execution_count": null,
      "outputs": [
        {
          "output_type": "stream",
          "name": "stdout",
          "text": [
            "Выберите способ ввода данных:\n",
            "1. Предопределённые значения\n",
            "2. Пользовательский ввод\n",
            "Введите 1 или 2: 1\n",
            "It should be ordered 1 on factory 1\n",
            "It should be ordered 1  on factory 2\n",
            "It should be ordered 4  on factory 3\n",
            "It should be ordered 1  on factory 4\n",
            "Total probability is 0.6561000000000001\n"
          ]
        }
      ]
    },
    {
      "cell_type": "code",
      "source": [
        "max_productions = [7,7,3,7]\n",
        "dynamic_prog_v2(num_companies, num_cars, max_productions, probabilities)"
      ],
      "metadata": {
        "colab": {
          "base_uri": "https://localhost:8080/"
        },
        "id": "ikXRBqlg_NvK",
        "outputId": "9e950a3a-ec4a-4494-cdae-a4c4c386e4cc"
      },
      "execution_count": null,
      "outputs": [
        {
          "output_type": "stream",
          "name": "stdout",
          "text": [
            "It should be ordered 1 on factory 1\n",
            "It should be ordered 1  on factory 2\n",
            "It should be ordered 3  on factory 3\n",
            "It should be ordered 2  on factory 4\n",
            "Total probability is 0.5832000000000002\n"
          ]
        }
      ]
    },
    {
      "cell_type": "code",
      "source": [
        "max_productions = [10,10,1,10]\n",
        "dynamic_prog_v2(num_companies, num_cars, max_productions, probabilities)"
      ],
      "metadata": {
        "id": "oGB0-lBA6u4S",
        "colab": {
          "base_uri": "https://localhost:8080/"
        },
        "outputId": "2d626ca2-5528-48cd-c7ff-bbea8f698e36"
      },
      "execution_count": null,
      "outputs": [
        {
          "output_type": "stream",
          "name": "stdout",
          "text": [
            "It should be ordered 4 on factory 1\n",
            "It should be ordered 1  on factory 2\n",
            "It should be ordered 1  on factory 3\n",
            "It should be ordered 1  on factory 4\n",
            "Total probability is 0.486\n"
          ]
        }
      ]
    },
    {
      "cell_type": "code",
      "source": [],
      "metadata": {
        "id": "ylXJFdwHGd1L"
      },
      "execution_count": null,
      "outputs": []
    }
  ]
}
